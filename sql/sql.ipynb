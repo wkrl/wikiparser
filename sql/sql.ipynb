{
 "metadata": {
  "language_info": {
   "codemirror_mode": {
    "name": "ipython",
    "version": 3
   },
   "file_extension": ".py",
   "mimetype": "text/x-python",
   "name": "python",
   "nbconvert_exporter": "python",
   "pygments_lexer": "ipython3",
   "version": "3.7.10-final"
  },
  "orig_nbformat": 2,
  "kernelspec": {
   "name": "python3",
   "display_name": "Python 3",
   "language": "python"
  }
 },
 "nbformat": 4,
 "nbformat_minor": 2,
 "cells": [
  {
   "source": [
    "### Id matching using SQL redirect table"
   ],
   "cell_type": "markdown",
   "metadata": {}
  },
  {
   "cell_type": "code",
   "execution_count": null,
   "metadata": {},
   "outputs": [],
   "source": [
    "import re\n",
    "from urllib.parse import unquote\n",
    "import dask.dataframe as dd\n",
    "import pandas\n",
    "\n",
    "\n",
    "annotation_ids = dd.read_parquet('annotation_ids.parquet', engine='pyarrow')\n",
    "doc_ids = dd.read_parquet('doc_ids.parquet', engine='pyarrow')\n",
    "\n",
    "assert len(annotation_ids['ids']) == len(annotation_ids['ids'].unique())"
   ]
  },
  {
   "cell_type": "code",
   "execution_count": 7,
   "metadata": {},
   "outputs": [
    {
     "output_type": "execute_result",
     "data": {
      "text/plain": [
       "'2958950/5453207'"
      ]
     },
     "metadata": {},
     "execution_count": 7
    }
   ],
   "source": [
    "# preprocessing\n",
    "annotation_ids['ids'] = annotation_ids['ids'].map(lambda x: re.sub('https://en.wikipedia.org/wiki/', '', x))\n",
    "doc_ids['ids'] = doc_ids['ids'].map(lambda x: re.sub('https://en.wikipedia.org/wiki/', '', x))\n",
    "\n",
    "# get matches that don't require sql redirect lookup\n",
    "matched_ids = annotation_ids.merge(doc_ids, how='inner', on='ids')\n",
    "matched_ids['matched_ids'] = matched_ids['ids'] \n",
    "f'{len(matched_ids)}/{len(annotation_ids)}'"
   ]
  },
  {
   "cell_type": "code",
   "execution_count": 8,
   "metadata": {},
   "outputs": [],
   "source": [
    "unmatched_ids = annotation_ids[~annotation_ids['ids'].compute().isin(matched_ids['ids'])]"
   ]
  },
  {
   "cell_type": "code",
   "execution_count": 9,
   "metadata": {},
   "outputs": [
    {
     "output_type": "execute_result",
     "data": {
      "text/plain": [
       "                                                 ids\n",
       "1                            1952%20chinese%20census\n",
       "7  edward%20costello%20%28queensland%20politician%29\n",
       "8                   u.s.%20department%20of%20defense"
      ],
      "text/html": "<div>\n<style scoped>\n    .dataframe tbody tr th:only-of-type {\n        vertical-align: middle;\n    }\n\n    .dataframe tbody tr th {\n        vertical-align: top;\n    }\n\n    .dataframe thead th {\n        text-align: right;\n    }\n</style>\n<table border=\"1\" class=\"dataframe\">\n  <thead>\n    <tr style=\"text-align: right;\">\n      <th></th>\n      <th>ids</th>\n    </tr>\n  </thead>\n  <tbody>\n    <tr>\n      <th>1</th>\n      <td>1952%20chinese%20census</td>\n    </tr>\n    <tr>\n      <th>7</th>\n      <td>edward%20costello%20%28queensland%20politician%29</td>\n    </tr>\n    <tr>\n      <th>8</th>\n      <td>u.s.%20department%20of%20defense</td>\n    </tr>\n  </tbody>\n</table>\n</div>"
     },
     "metadata": {},
     "execution_count": 9
    }
   ],
   "source": [
    "unmatched_ids.compute()[:3]"
   ]
  },
  {
   "cell_type": "code",
   "execution_count": 10,
   "metadata": {},
   "outputs": [
    {
     "output_type": "execute_result",
     "data": {
      "text/plain": [
       "                                       ids\n",
       "1                      1952_chinese_census\n",
       "7  edward_costello_(queensland_politician)\n",
       "8               u.s._department_of_defense"
      ],
      "text/html": "<div>\n<style scoped>\n    .dataframe tbody tr th:only-of-type {\n        vertical-align: middle;\n    }\n\n    .dataframe tbody tr th {\n        vertical-align: top;\n    }\n\n    .dataframe thead th {\n        text-align: right;\n    }\n</style>\n<table border=\"1\" class=\"dataframe\">\n  <thead>\n    <tr style=\"text-align: right;\">\n      <th></th>\n      <th>ids</th>\n    </tr>\n  </thead>\n  <tbody>\n    <tr>\n      <th>1</th>\n      <td>1952_chinese_census</td>\n    </tr>\n    <tr>\n      <th>7</th>\n      <td>edward_costello_(queensland_politician)</td>\n    </tr>\n    <tr>\n      <th>8</th>\n      <td>u.s._department_of_defense</td>\n    </tr>\n  </tbody>\n</table>\n</div>"
     },
     "metadata": {},
     "execution_count": 10
    }
   ],
   "source": [
    "import urllib.parse\n",
    "\n",
    "\n",
    "unmatched_ids['ids'] = unmatched_ids['ids'].map(lambda x: urllib.parse.unquote(re.sub('%20', '_', x))) # url decode but whitespaces are underscores\n",
    "doc_ids['ids'] = doc_ids['ids'].map(lambda x: urllib.parse.unquote(re.sub('%20', '_', x)))\n",
    "\n",
    "unmatched_ids.compute()[:3]"
   ]
  },
  {
   "cell_type": "code",
   "execution_count": 11,
   "metadata": {},
   "outputs": [],
   "source": [
    "matched_ids = matched_ids.compute()\n",
    "unmatched_ids = unmatched_ids.compute()\n",
    "doc_ids = doc_ids.compute()"
   ]
  },
  {
   "cell_type": "code",
   "execution_count": 22,
   "metadata": {},
   "outputs": [],
   "source": [
    "import mysql.connector\n",
    "\n",
    "\n",
    "matches = []\n",
    "\n",
    "def add_matches(chunk):\n",
    "    connection = mysql.connector.connect(host='10.107.229.70',\n",
    "                                        database='wikidata',\n",
    "                                        user='user',\n",
    "                                        password='password',\n",
    "                                        buffered=True)\n",
    "    with connection.cursor() as cursor:    \n",
    "        print(chunk)\n",
    "        query = f\"select page_id, page_title from page where page_namespace = 0 and page_is_redirect = 1 and lower(convert(page_title using latin1)) in {tuple(chunk)}\"\n",
    "        cursor.execute(query)\n",
    "        pages = cursor.fetchall()\n",
    "        for page in pages:\n",
    "            page_id, page_title = page\n",
    "            page_title = page_title.decode('utf-8')\n",
    "            \n",
    "            redirect_query = f'select rd_title from redirect where rd_from = {page_id};'\n",
    "            cursor.execute(redirect_query)\n",
    "            redirect = cursor.fetchone()\n",
    "            redirect = redirect[0].decode('utf-8')\n",
    "            matches.append({'ids': page_title.lower(), 'matched_ids': redirect})    "
   ]
  },
  {
   "source": [
    "#### TODO: scale matching\n",
    "This can be achieved by either increasing SQL query tuple (`... in ()`) or using multithreading / -processing in some form.\n",
    "\n",
    "#### TODO: case sensitive parsing\n",
    "Matched ids should be actual working links. "
   ],
   "cell_type": "markdown",
   "metadata": {}
  },
  {
   "cell_type": "code",
   "execution_count": 23,
   "metadata": {},
   "outputs": [
    {
     "output_type": "stream",
     "name": "stdout",
     "text": [
      "1                          1952_chinese_census\n7      edward_costello_(queensland_politician)\n8                   u.s._department_of_defense\n9      2009_nba_all-star_game#rookie_challenge\n14                                shaneeshwara\n                        ...                   \n216                            henry_c._pelton\n222                             zipaquira_line\n223                list_of_rc_relizane_seasons\n224                                 ultrasharp\n227                               at-the-money\nName: ids, Length: 100, dtype: object\n"
     ]
    }
   ],
   "source": [
    "# def chunks(l, n):\n",
    "    # n = max(1, n)\n",
    "    # return (l[i:i+n] for i in range(0, len(l), n))\n",
    "# unmatched = chunks(unmatched_ids, len(unmatched_ids['ids'])//20000)\n",
    "\n",
    "# threads = []\n",
    "# for chunk in list(unmatched):\n",
    "    # chunk = chunk['ids']    \n",
    "    # thread = threading.Thread(target=add_matches, args=(chunk,))\n",
    "    # threads.append(thread)\n",
    "\n",
    "# for thread in threads:\n",
    "    # thread.start()\n",
    "\n",
    "# for thread in threads:\n",
    "    # thread.join()\n",
    "\n",
    "add_matches(unmatched_ids['ids'][:100])"
   ]
  },
  {
   "cell_type": "code",
   "execution_count": 24,
   "metadata": {},
   "outputs": [
    {
     "output_type": "execute_result",
     "data": {
      "text/plain": [
       "51"
      ]
     },
     "metadata": {},
     "execution_count": 24
    }
   ],
   "source": [
    "len(matches)"
   ]
  },
  {
   "cell_type": "code",
   "execution_count": 26,
   "metadata": {},
   "outputs": [
    {
     "output_type": "execute_result",
     "data": {
      "text/plain": [
       "                                                  ids  \\\n",
       "0                 chris%20chantler%20%28footballer%29   \n",
       "1   national%20archives%20administration%20of%20china   \n",
       "2                                        aftab%20seth   \n",
       "3                                 kerstin%20stegemann   \n",
       "4                                      jerome%20lewis   \n",
       "..                                                ...   \n",
       "46                                1952_chinese_census   \n",
       "47                  trans-european_transport_networks   \n",
       "48                              riemann_integrability   \n",
       "49                                       my_full_moon   \n",
       "50                           the_buffalo_book_company   \n",
       "\n",
       "                                          matched_ids  \n",
       "0                 chris%20chantler%20%28footballer%29  \n",
       "1   national%20archives%20administration%20of%20china  \n",
       "2                                        aftab%20seth  \n",
       "3                                 kerstin%20stegemann  \n",
       "4                                      jerome%20lewis  \n",
       "..                                                ...  \n",
       "46  First_National_Population_Census_of_the_People...  \n",
       "47                  Trans-European_Transport_Networks  \n",
       "48                                   Riemann_integral  \n",
       "49                                  Scrubs_(season_8)  \n",
       "50                           Grant-Hadley_Enterprises  \n",
       "\n",
       "[2959001 rows x 2 columns]"
      ],
      "text/html": "<div>\n<style scoped>\n    .dataframe tbody tr th:only-of-type {\n        vertical-align: middle;\n    }\n\n    .dataframe tbody tr th {\n        vertical-align: top;\n    }\n\n    .dataframe thead th {\n        text-align: right;\n    }\n</style>\n<table border=\"1\" class=\"dataframe\">\n  <thead>\n    <tr style=\"text-align: right;\">\n      <th></th>\n      <th>ids</th>\n      <th>matched_ids</th>\n    </tr>\n  </thead>\n  <tbody>\n    <tr>\n      <th>0</th>\n      <td>chris%20chantler%20%28footballer%29</td>\n      <td>chris%20chantler%20%28footballer%29</td>\n    </tr>\n    <tr>\n      <th>1</th>\n      <td>national%20archives%20administration%20of%20china</td>\n      <td>national%20archives%20administration%20of%20china</td>\n    </tr>\n    <tr>\n      <th>2</th>\n      <td>aftab%20seth</td>\n      <td>aftab%20seth</td>\n    </tr>\n    <tr>\n      <th>3</th>\n      <td>kerstin%20stegemann</td>\n      <td>kerstin%20stegemann</td>\n    </tr>\n    <tr>\n      <th>4</th>\n      <td>jerome%20lewis</td>\n      <td>jerome%20lewis</td>\n    </tr>\n    <tr>\n      <th>...</th>\n      <td>...</td>\n      <td>...</td>\n    </tr>\n    <tr>\n      <th>46</th>\n      <td>1952_chinese_census</td>\n      <td>First_National_Population_Census_of_the_People...</td>\n    </tr>\n    <tr>\n      <th>47</th>\n      <td>trans-european_transport_networks</td>\n      <td>Trans-European_Transport_Networks</td>\n    </tr>\n    <tr>\n      <th>48</th>\n      <td>riemann_integrability</td>\n      <td>Riemann_integral</td>\n    </tr>\n    <tr>\n      <th>49</th>\n      <td>my_full_moon</td>\n      <td>Scrubs_(season_8)</td>\n    </tr>\n    <tr>\n      <th>50</th>\n      <td>the_buffalo_book_company</td>\n      <td>Grant-Hadley_Enterprises</td>\n    </tr>\n  </tbody>\n</table>\n<p>2959001 rows × 2 columns</p>\n</div>"
     },
     "metadata": {},
     "execution_count": 26
    }
   ],
   "source": [
    "matched_ids.append(matches)"
   ]
  },
  {
   "source": [
    "For this batch of unmatched ids around 50% could be matched using SQL redirect table lookup"
   ],
   "cell_type": "markdown",
   "metadata": {}
  },
  {
   "cell_type": "code",
   "execution_count": null,
   "metadata": {},
   "outputs": [],
   "source": []
  }
 ]
}